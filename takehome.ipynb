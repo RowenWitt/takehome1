{
 "cells": [
  {
   "cell_type": "markdown",
   "metadata": {},
   "source": [
    "# Part 1\n",
    "\n",
    "The following code represents a simple, inefficient pattern search that might be found during EDA in a jupyter notebook.\n",
    "\n",
    "In a separate `.py` file, refactor this code using OOP to make it more extensible and efficient.\n",
    "\n",
    "Your object should be able to do each of the following:\n",
    "\n",
    "1. Accept either a string or a list of words as input text to be searched for pattern matches (if a string is passed, only words in the string that match the pattern should be caught)\n",
    "2. Allow for registering an arbitrary number of pattern groups to search input text\n",
    "3. Allow the user to specify a specific pattern group to search the text for matches\n",
    "4. Allow the user to search input text with all registered patterns and return all matches by pattern group"
   ]
  },
  {
   "cell_type": "code",
   "execution_count": 96,
   "metadata": {},
   "outputs": [],
   "source": [
    "import pandas as pd\n",
    "import time\n",
    "import requests\n",
    "import matplotlib.pyplot as plt"
   ]
  },
  {
   "cell_type": "code",
   "execution_count": 15,
   "metadata": {},
   "outputs": [],
   "source": [
    "site = 'https://www.gutenberg.org/files/11/11-0.txt'\n",
    "response = requests.get(site)\n",
    "# e = response.text.encode().decode()\n",
    "# print(e)\n",
    "words = response.text.replace('\\n', '')\n",
    "words = words.replace('\\r', ' ').split(' ')\n",
    "test = words\n"
   ]
  },
  {
   "cell_type": "markdown",
   "metadata": {},
   "source": [
    "### Naive Implementation"
   ]
  },
  {
   "cell_type": "code",
   "execution_count": 46,
   "metadata": {},
   "outputs": [
    {
     "name": "stdout",
     "output_type": "stream",
     "text": [
      "0.00737309455871582\n",
      "0.006721973419189453\n",
      "Pattern 1: ['dry', 'splash!', 'splashing', 'dry', 'dry', 'dry', 'dry', 'dry', 'dry', 'splashing', 'dry,', 'splashed']\n"
     ]
    }
   ],
   "source": [
    "#my_words = ['dog', 'cat', 'mouse', 'bird', 'snake', 'kitten', 'puppy', 'rat', 'cat']\n",
    "my_words = test\n",
    "\n",
    "pattern_1_words = []\n",
    "pattern_2_words = []\n",
    "\n",
    "pattern_group_1 = [\n",
    "    'plas',\n",
    "    'dry'\n",
    "]\n",
    "\n",
    "pattern_group_2 = [\n",
    "    'in',\n",
    "    'mo'\n",
    "]\n",
    "\n",
    "start = time.time()\n",
    "for word in my_words:\n",
    "    for pat in pattern_group_1:\n",
    "        if pat in word:\n",
    "            pattern_1_words.append(word)\n",
    "print(time.time() - start)\n",
    "\n",
    "start = time.time()\n",
    "for word in my_words:\n",
    "    for pat in pattern_group_2:\n",
    "        if pat in word:\n",
    "            pattern_2_words.append(word)\n",
    "print(time.time() - start)\n",
    "\n",
    "print(f\"Pattern 1: {pattern_1_words}\")\n",
    "#print(f\"Pattern 2: {pattern_2_words}\")"
   ]
  },
  {
   "cell_type": "code",
   "execution_count": 6,
   "metadata": {},
   "outputs": [
    {
     "name": "stdout",
     "output_type": "stream",
     "text": [
      "indexing took 0.1345658302307129 with size of 20320410\n",
      "so performed by a factor of 67.44441696550018\n",
      "man performed by a factor of 329.664570230608\n",
      "sopololous performed by a factor of 2021.0297872340425\n",
      "tat performed by a factor of 295.326352530541\n",
      "tug performed by a factor of 1838.4420289855075\n"
     ]
    }
   ],
   "source": [
    "import time, requests, sys\n",
    "\n",
    "class Index:\n",
    "\tdef __init__(self):\n",
    "\t\tself.words = []\n",
    "\t\tself.index = {}\n",
    "\n",
    "\tdef add_word(self, word):\n",
    "\t\tloc = len(self.words)\n",
    "\t\tself.words.append(word)\n",
    "\n",
    "\t\tfor i in range(len(word)):\n",
    "\t\t\tfor j in range(1, len(word) - i + 1):\n",
    "\t\t\t\tk = word[i:i+j]\n",
    "\t\t\t\tif k in self.index:\n",
    "\t\t\t\t\tself.index[k].append(loc)\n",
    "\t\t\t\telse:\n",
    "\t\t\t\t\tself.index[k] = [loc]\n",
    "\n",
    "\tdef search(self, word):\n",
    "\t\tmatches = [self.words[i] for i in self.index.get(word, [])]\n",
    "\n",
    "\t\treturn matches\n",
    "\n",
    "\n",
    "# util funcs\n",
    "\n",
    "def get_words(large):\n",
    "\tif large:\n",
    "\t\tword_site = \"https://www.mit.edu/~ecprice/wordlist.100000\"\n",
    "\telse:\n",
    "\t\tword_site = \"https://www.mit.edu/~ecprice/wordlist.10000\"\n",
    "\n",
    "\tresponse = requests.get(word_site)\n",
    "\twords = response.content.splitlines()\n",
    "\n",
    "\treturn [i.decode() for i in words]\n",
    "\n",
    "def get_alice_words():\n",
    "\tword_site = 'https://www.gutenberg.org/files/11/11-0.txt'\n",
    "\tresponse = requests.get(word_site)\n",
    "\n",
    "\twords = response.text.replace('\\n', '').split(' ')\n",
    "\n",
    "\treturn words\n",
    "\n",
    "\n",
    "def sizeof(obj):\n",
    "    size = sys.getsizeof(obj)\n",
    "    if isinstance(obj, dict): return size + sum(map(sizeof, obj.keys())) + sum(map(sizeof, obj.values()))\n",
    "    if isinstance(obj, (list, tuple, set, frozenset)): return size + sum(map(sizeof, obj))\n",
    "    return size\n",
    "\n",
    "def trinum(n):\n",
    "\treturn (n * (n + 1)) / 2\n",
    "\n",
    "\n",
    "# benchmark an index vs string.find\n",
    "\n",
    "def benchmark(index, words, word, n=100):\n",
    "\tlength = 0\n",
    "\n",
    "\ttime_a = time.time()\n",
    "\tfor _ in range(n):\n",
    "\t\tlength = len(index.search(word))\n",
    "\ttime_a = (time.time() - time_a) / n\n",
    "\n",
    "\ttime_b = time.time()\n",
    "\tfor _ in range(n):\n",
    "\t\tlength2 = len([i for i in words if i.find(word) != -1])\n",
    "\t\tif length2 != length:\n",
    "\t\t\traise Exception(\"mismatching lengths: {} and {}\".format(length, length2))\n",
    "\ttime_b = (time.time() - time_b) / n\n",
    "\n",
    "\treturn time_b / time_a\n",
    "\n",
    "\n",
    "# run main\n",
    "\n",
    "if __name__ == '__main__':\n",
    "\twords = get_words(False)\n",
    "\t#words = get_alice_words()\n",
    "\n",
    "\tstart = time.time()\n",
    "\tindex = Index()\n",
    "\tfor i in words:\n",
    "\t\tindex.add_word(i)\n",
    "\t\n",
    "\tprint(\"indexing took {} with size of {}\".format(time.time() - start, sizeof(index.index)))\n",
    "\n",
    "\tfor test in [\"so\", \"man\", \"sopololous\", \"tat\", \"tug\"]:\n",
    "\t\tcomparison = benchmark(index, words, test)\n",
    "\t\tprint(\"{} performed by a factor of {}\".format(test, comparison))"
   ]
  },
  {
   "cell_type": "markdown",
   "metadata": {},
   "source": [
    "### Pattern_Match Class\n",
    "- Will be written to .py file and imported\n",
    "- Was considering Rabin-Karp or Boyer-Moore-Horsepool\n",
    "- Decided against above due to search object being list of strings\n",
    "- Implementation is an index of each match in list\n",
    "- Requires a reference list \n"
   ]
  },
  {
   "cell_type": "code",
   "execution_count": 80,
   "metadata": {},
   "outputs": [],
   "source": [
    "class PatternMatch():\n",
    "    def __init__(self, body = []):\n",
    "        self.table = {} # Make own hash table, with all functionality\n",
    "        self.body = []\n",
    "        \n",
    "        self.add_to_table(body)\n",
    "        \n",
    "\n",
    "    def add_to_table(self, words):\n",
    "        for word in words:\n",
    "            n_pos = len(self.body)\n",
    "            self.body.append(word)\n",
    "\n",
    "            for k in range(len(word) + 1):\n",
    "\n",
    "                for j in range(k):\n",
    "                    val = word[j:len(word) - (k - 1) + j]\n",
    "                    if val in self.table:\n",
    "                        self.table[val].add(n_pos)\n",
    "                    else:\n",
    "                        self.table[val] = {n_pos}\n",
    "                    \n",
    "                    \n",
    "    def search_indexes(self, pattern):\n",
    "        out = []\n",
    "        for seq in pattern:\n",
    "            if seq in self.table:\n",
    "                out.append(self.table[seq])\n",
    "            else:\n",
    "                pass\n",
    "            \n",
    "        return out\n",
    "    \n",
    "    \n",
    "    def search(self, pattern):\n",
    "        indexes = [list(i) for i in self.search_indexes(pattern)]\n",
    "        out = []\n",
    "        for i in indexes:\n",
    "            out.append([self.body[j] for j in i])\n",
    "            \n",
    "        return out\n",
    "    \n",
    "    \n",
    "    def reindex(self, body = []):\n",
    "        if body == []:\n",
    "            body = self.body\n",
    "        self.body = []\n",
    "        self.table = {}\n",
    "        self.add_to_table(body)\n",
    "        \n",
    "        \n",
    "    def delete(self, values):\n",
    "        vals = [i for i in self.body if i not in values]\n",
    "        self.reindex(vals)\n"
   ]
  },
  {
   "cell_type": "code",
   "execution_count": 82,
   "metadata": {},
   "outputs": [
    {
     "name": "stdout",
     "output_type": "stream",
     "text": [
      "index time 0.3404390811920166\n",
      "search time 1 0.0001690387725830078\n",
      "search time 2 0.00041413307189941406\n"
     ]
    }
   ],
   "source": [
    "start = time.time()\n",
    "CP = PatternMatch(test)\n",
    "print('index time', time.time() - start)\n",
    "\n",
    "start = time.time()\n",
    "one = CP.search(['rt', 'dry'])\n",
    "print('search time 1', time.time() - start)\n",
    "start = time.time()\n",
    "two = CP.search(['in', 'mo'])\n",
    "print('search time 2', time.time() - start)"
   ]
  },
  {
   "cell_type": "markdown",
   "metadata": {},
   "source": [
    "# Part 2\n",
    "\n",
    "Writes tests for your code using `pytest`"
   ]
  },
  {
   "cell_type": "code",
   "execution_count": 102,
   "metadata": {},
   "outputs": [],
   "source": [
    "site = 'https://www.gutenberg.org/files/11/11-0.txt'\n",
    "response = requests.get(site)\n",
    "# e = response.text.encode().decode()\n",
    "# print(e)\n",
    "words = response.text.replace('\\n', '')\n",
    "words = words.replace('\\r', ' ').split(' ')\n",
    "test = words"
   ]
  },
  {
   "cell_type": "markdown",
   "metadata": {},
   "source": [
    "# Part 3\n",
    "\n",
    "Imagine your job is to help build the text processing pipeline for a machine learning model. This model takes strings, processes them into vectors, and then classifies the text as relating to one of several categories (a multiclass classifier).\n",
    "\n",
    "The raw data that is passed into the machine learning pipeline has strings that may include descriptions of many items, including multiple items that we are seeking to classify, as well as descriptions of items that are irrelevant to our classifier. These must be separated before being passed to classifier.\n",
    "\n",
    "As the newest member of the team, your job is to get up to speed with the data as quickly as possible, and to find opportunities to improve the text processing pipeline. Perform an EDA on the following CSV to accomplish this. Be prepared to explain what insights you learned from the data, and what approaches you might use to improve the pipeline.\n",
    "\n",
    "Perform the analysis in this notebook, below this prompt."
   ]
  },
  {
   "cell_type": "code",
   "execution_count": 101,
   "metadata": {},
   "outputs": [],
   "source": [
    "import utils\n",
    "import index"
   ]
  },
  {
   "cell_type": "code",
   "execution_count": 110,
   "metadata": {},
   "outputs": [],
   "source": [
    "ind = index.Indexer(words)\n",
    "search_terms = list(ind.table.keys())\n",
    "\n",
    "def diff_patterns(pat_1, pat_2):\n",
    "    for i in pat_1:\n",
    "        if i in pat_2:\n",
    "            pat_2.pop(pat_2.index(i))\n",
    "\n",
    "    return pat_2"
   ]
  },
  {
   "cell_type": "code",
   "execution_count": 152,
   "metadata": {},
   "outputs": [
    {
     "name": "stdout",
     "output_type": "stream",
     "text": [
      "iteration 10000 of 60478 done\n",
      "index time 0.0016473134358723958\n",
      "base time 0.2958773136138916\n",
      "find time 0.8217598994572958\n",
      "regex time 1.6415414690971375\n",
      "iteration 20000 of 60478 done\n",
      "index time 0.0023713986078898112\n",
      "base time 0.5822011232376099\n",
      "find time 1.6270170609156291\n",
      "regex time 3.251758074760437\n",
      "iteration 30000 of 60478 done\n",
      "index time 0.0030285875002543134\n",
      "base time 0.8603448987007141\n",
      "find time 2.4220074812571206\n",
      "regex time 4.8410702586174015\n",
      "iteration 40000 of 60478 done\n",
      "index time 0.0037088314692179363\n",
      "base time 1.1418578545252482\n",
      "find time 3.223866033554077\n",
      "regex time 6.443383506933848\n",
      "iteration 50000 of 60478 done\n",
      "index time 0.004407227039337158\n",
      "base time 1.4176149249076844\n",
      "find time 4.020919823646546\n",
      "regex time 8.036771913369497\n",
      "iteration 60000 of 60478 done\n",
      "index time 0.005066041151682536\n",
      "base time 1.6980190714200338\n",
      "find time 4.819965008894602\n",
      "regex time 9.635029872258505\n",
      "finished in 1606275761.3329885 seconds\n",
      "0 match discrepancies\n",
      "index time 0.005100150903065999\n",
      "base time 1.711797340710958\n",
      "find time 4.8585586508115135\n",
      "regex time 9.712262801329295\n"
     ]
    }
   ],
   "source": [
    "# do a * b and c * d\n",
    "# or do a * b, a * c, a * d, b * c, b * d, c * d\n",
    "# if the latter isn't too slow, do that\n",
    "def search_all_indexes(words=words):\n",
    "    counter = 0\n",
    "    start = time.time()\n",
    "    time_i = 0\n",
    "    time_b = 0\n",
    "    time_f = 0\n",
    "    time_r = 0\n",
    "    ind = index.Indexer(words)\n",
    "    search_terms = list(ind.table.keys())\n",
    "    mismatches = {}\n",
    "    for i in search_terms:\n",
    "        counter += 1\n",
    "\n",
    "        # search ind\n",
    "        tsi = time.time()\n",
    "        i_vals = ind.search([i])[0]\n",
    "        time_i += time.time() - tsi\n",
    "    \n",
    "        # search words with base\n",
    "        bsi = time.time()\n",
    "        _, b_vals = utils.base_searcher(words, [i])\n",
    "        time_b += time.time() - bsi\n",
    "        \n",
    "        # search words with .find\n",
    "        fsi = time.time()\n",
    "        _, f_vals = utils.find_searcher(words, [i])\n",
    "        time_f += time.time() - fsi\n",
    "        \n",
    "        # search words with regex\n",
    "        rsi = time.time()\n",
    "        _, r_vals = utils.find_searcher(words, [i])\n",
    "        time_r += time.time() - fsi\n",
    "        \n",
    "        \n",
    "        # compare ind to regex\n",
    "        a = i_vals.copy()\n",
    "        b = r_vals.copy()\n",
    "        dif_ind_reg = diff_patterns(a, b)\n",
    "        \n",
    "        # compare ind to base\n",
    "        a = i_vals.copy()\n",
    "        b = b_vals.copy()\n",
    "        dif_ind_bas = diff_patterns(a, b)\n",
    "        \n",
    "        # compare ind to .find\n",
    "        a = i_vals.copy()\n",
    "        b = f_vals.copy()\n",
    "        dif_ind_fin = diff_patterns(a, b)\n",
    "\n",
    "        term_score = len(dif_ind_reg) + len(dif_ind_bas) + len(dif_ind_fin)\n",
    "        \n",
    "        mismatches[i] = term_score\n",
    "        \n",
    "        if counter % 10000 == 0:\n",
    "            print('iteration {} of {} done'.format(counter, len(search_terms)))\n",
    "            print('index time', time_i / 60)\n",
    "            print('base time', time_b / 60)\n",
    "            print('find time', time_f / 60)\n",
    "            print('regex time', time_r / 60)\n",
    "        \n",
    "    print('finished in {} seconds'.format((time.time() - start / 60)))\n",
    "    errors = 0\n",
    "    for i in mismatches:\n",
    "        errors += mismatches[i]\n",
    "    print('{} match discrepancies'.format(errors))\n",
    "    print('index time', time_i / 60)\n",
    "    print('base time', time_b / 60)\n",
    "    print('find time', time_f / 60)\n",
    "    print('regex time', time_r / 60)\n",
    "    return mismatches\n",
    "    \n",
    "    \n",
    "    \n",
    "    # step one is index and then grab all keys\n",
    "    # step two is to search through all indexes based on the three methods\n",
    "    # then test comparisons one by one until all the same\n",
    "    # then combine into one step\n",
    "    \n",
    "\n",
    "test = search_all_indexes()\n",
    "\n",
    "# regex and find take 4 and 9 minutes on small dataset, will omit for speed\n",
    "# for next trials"
   ]
  },
  {
   "cell_type": "code",
   "execution_count": 154,
   "metadata": {},
   "outputs": [
    {
     "ename": "NameError",
     "evalue": "name 'mismatches' is not defined",
     "output_type": "error",
     "traceback": [
      "\u001b[0;31m---------------------------------------------------------------------------\u001b[0m",
      "\u001b[0;31mNameError\u001b[0m                                 Traceback (most recent call last)",
      "\u001b[0;32m/var/folders/c0/gqt6tqv97pg_1xx3rsk33jn40000gn/T/ipykernel_68866/3942699519.py\u001b[0m in \u001b[0;36m<module>\u001b[0;34m\u001b[0m\n\u001b[0;32m----> 1\u001b[0;31m \u001b[0mmismatches\u001b[0m\u001b[0;34m\u001b[0m\u001b[0;34m\u001b[0m\u001b[0m\n\u001b[0m",
      "\u001b[0;31mNameError\u001b[0m: name 'mismatches' is not defined"
     ]
    }
   ],
   "source": [
    "mismatches"
   ]
  },
  {
   "cell_type": "code",
   "execution_count": 98,
   "metadata": {},
   "outputs": [
    {
     "data": {
      "image/png": "[encoded data removed]",
      "text/plain": [
       "<Figure size 432x288 with 1 Axes>"
      ]
     },
     "metadata": {
      "needs_background": "light"
     },
     "output_type": "display_data"
    }
   ],
   "source": [
    "df = pd.read_csv('takehome.csv')\n",
    "\n",
    "# Making an assumption that the 'no's' are the no's\n",
    "df_yes = df.loc[df['yes_no'] == 'yes']\n",
    "\n",
    "\n",
    "nans = [df_yes[i].isna().sum() for i in df_yes.columns]\n",
    "\n",
    "fig, ax = plt.subplots()\n",
    "\n",
    "x = df_yes.columns\n",
    "y = nans\n",
    "\n",
    "ax.barh(x, y)\n",
    "\n",
    "plt.show()"
   ]
  },
  {
   "cell_type": "markdown",
   "metadata": {},
   "source": []
  }
 ],
 "metadata": {
  "interpreter": {
   "hash": "aee8b7b246df8f9039afb4144a1f6fd8d2ca17a180786b69acc140d282b71a49"
  },
  "kernelspec": {
   "display_name": "Python 3 (ipykernel)",
   "language": "python",
   "name": "python3"
  },
  "language_info": {
   "codemirror_mode": {
    "name": "ipython",
    "version": 3
   },
   "file_extension": ".py",
   "mimetype": "text/x-python",
   "name": "python",
   "nbconvert_exporter": "python",
   "pygments_lexer": "ipython3",
   "version": "3.9.0"
  }
 },
 "nbformat": 4,
 "nbformat_minor": 2
}
